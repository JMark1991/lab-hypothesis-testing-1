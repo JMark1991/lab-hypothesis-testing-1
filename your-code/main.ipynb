{
 "cells": [
  {
   "cell_type": "markdown",
   "metadata": {},
   "source": [
    "# Before your start:\n",
    "- Read the README.md file\n",
    "- Comment as much as you can and use the resources (README.md file)\n",
    "- Happy learning!"
   ]
  },
  {
   "cell_type": "code",
   "execution_count": 50,
   "metadata": {},
   "outputs": [],
   "source": [
    "# import numpy and pandas\n",
    "import numpy as np \n",
    "import pandas as pd \n",
    "\n"
   ]
  },
  {
   "cell_type": "markdown",
   "metadata": {},
   "source": [
    "# Challenge 1 - Exploring the Data\n",
    "\n",
    "In this challenge, we will examine all salaries of employees of the City of Chicago. We will start by loading the dataset and examining its contents."
   ]
  },
  {
   "cell_type": "code",
   "execution_count": 51,
   "metadata": {},
   "outputs": [],
   "source": [
    "employees = pd.read_csv('Current_Employee_Names__Salaries__and_Position_Titles.csv')"
   ]
  },
  {
   "cell_type": "markdown",
   "metadata": {},
   "source": [
    "Examine the `salaries` dataset using the `head` function below."
   ]
  },
  {
   "cell_type": "code",
   "execution_count": 52,
   "metadata": {},
   "outputs": [
    {
     "output_type": "execute_result",
     "data": {
      "text/plain": "                  Name                              Job Titles  \\\n0    AARON,  JEFFERY M                                SERGEANT   \n1      AARON,  KARINA   POLICE OFFICER (ASSIGNED AS DETECTIVE)   \n2  AARON,  KIMBERLEI R                CHIEF CONTRACT EXPEDITER   \n3  ABAD JR,  VICENTE M                       CIVIL ENGINEER IV   \n4    ABASCAL,  REECE E             TRAFFIC CONTROL AIDE-HOURLY   \n\n         Department Full or Part-Time Salary or Hourly  Typical Hours  \\\n0            POLICE                 F           Salary            NaN   \n1            POLICE                 F           Salary            NaN   \n2  GENERAL SERVICES                 F           Salary            NaN   \n3       WATER MGMNT                 F           Salary            NaN   \n4              OEMC                 P           Hourly           20.0   \n\n   Annual Salary  Hourly Rate  \n0       101442.0          NaN  \n1        94122.0          NaN  \n2       101592.0          NaN  \n3       110064.0          NaN  \n4            NaN        19.86  ",
      "text/html": "<div>\n<style scoped>\n    .dataframe tbody tr th:only-of-type {\n        vertical-align: middle;\n    }\n\n    .dataframe tbody tr th {\n        vertical-align: top;\n    }\n\n    .dataframe thead th {\n        text-align: right;\n    }\n</style>\n<table border=\"1\" class=\"dataframe\">\n  <thead>\n    <tr style=\"text-align: right;\">\n      <th></th>\n      <th>Name</th>\n      <th>Job Titles</th>\n      <th>Department</th>\n      <th>Full or Part-Time</th>\n      <th>Salary or Hourly</th>\n      <th>Typical Hours</th>\n      <th>Annual Salary</th>\n      <th>Hourly Rate</th>\n    </tr>\n  </thead>\n  <tbody>\n    <tr>\n      <th>0</th>\n      <td>AARON,  JEFFERY M</td>\n      <td>SERGEANT</td>\n      <td>POLICE</td>\n      <td>F</td>\n      <td>Salary</td>\n      <td>NaN</td>\n      <td>101442.0</td>\n      <td>NaN</td>\n    </tr>\n    <tr>\n      <th>1</th>\n      <td>AARON,  KARINA</td>\n      <td>POLICE OFFICER (ASSIGNED AS DETECTIVE)</td>\n      <td>POLICE</td>\n      <td>F</td>\n      <td>Salary</td>\n      <td>NaN</td>\n      <td>94122.0</td>\n      <td>NaN</td>\n    </tr>\n    <tr>\n      <th>2</th>\n      <td>AARON,  KIMBERLEI R</td>\n      <td>CHIEF CONTRACT EXPEDITER</td>\n      <td>GENERAL SERVICES</td>\n      <td>F</td>\n      <td>Salary</td>\n      <td>NaN</td>\n      <td>101592.0</td>\n      <td>NaN</td>\n    </tr>\n    <tr>\n      <th>3</th>\n      <td>ABAD JR,  VICENTE M</td>\n      <td>CIVIL ENGINEER IV</td>\n      <td>WATER MGMNT</td>\n      <td>F</td>\n      <td>Salary</td>\n      <td>NaN</td>\n      <td>110064.0</td>\n      <td>NaN</td>\n    </tr>\n    <tr>\n      <th>4</th>\n      <td>ABASCAL,  REECE E</td>\n      <td>TRAFFIC CONTROL AIDE-HOURLY</td>\n      <td>OEMC</td>\n      <td>P</td>\n      <td>Hourly</td>\n      <td>20.0</td>\n      <td>NaN</td>\n      <td>19.86</td>\n    </tr>\n  </tbody>\n</table>\n</div>"
     },
     "metadata": {},
     "execution_count": 52
    }
   ],
   "source": [
    "employees.head()"
   ]
  },
  {
   "cell_type": "markdown",
   "metadata": {},
   "source": [
    "We see from looking at the `head` function that there is quite a bit of missing data. Let's examine how much missing data is in each column. Produce this output in the cell below"
   ]
  },
  {
   "cell_type": "code",
   "execution_count": 53,
   "metadata": {
    "tags": []
   },
   "outputs": [
    {
     "output_type": "stream",
     "name": "stdout",
     "text": "<class 'pandas.core.frame.DataFrame'>\nRangeIndex: 33183 entries, 0 to 33182\nData columns (total 8 columns):\n #   Column             Non-Null Count  Dtype  \n---  ------             --------------  -----  \n 0   Name               33183 non-null  object \n 1   Job Titles         33183 non-null  object \n 2   Department         33183 non-null  object \n 3   Full or Part-Time  33183 non-null  object \n 4   Salary or Hourly   33183 non-null  object \n 5   Typical Hours      8022 non-null   float64\n 6   Annual Salary      25161 non-null  float64\n 7   Hourly Rate        8022 non-null   float64\ndtypes: float64(3), object(5)\nmemory usage: 1.4+ MB\n"
    }
   ],
   "source": [
    "employees.info()"
   ]
  },
  {
   "cell_type": "markdown",
   "metadata": {},
   "source": [
    "Let's also look at the count of hourly vs. salaried employees. Write the code in the cell below"
   ]
  },
  {
   "cell_type": "code",
   "execution_count": 54,
   "metadata": {
    "tags": []
   },
   "outputs": [
    {
     "output_type": "stream",
     "name": "stdout",
     "text": "There are 8022 hourly employees and 25161 salaried, so there are 33183 in total\n"
    }
   ],
   "source": [
    "h = employees['Hourly Rate'].count()\n",
    "s = employees['Annual Salary'].count()\n",
    "\n",
    "print(f'There are {h} hourly employees and {s} salaried, so there are {h+s} in total')\n"
   ]
  },
  {
   "cell_type": "markdown",
   "metadata": {},
   "source": [
    "What this information indicates is that the table contains information about two types of employees - salaried and hourly. Some columns apply only to one type of employee while other columns only apply to another kind. This is why there are so many missing values. Therefore, we will not do anything to handle the missing values."
   ]
  },
  {
   "cell_type": "markdown",
   "metadata": {},
   "source": [
    "There are different departments in the city. List all departments and the count of employees in each department."
   ]
  },
  {
   "cell_type": "markdown",
   "metadata": {},
   "source": [
    "# Challenge 2 - Hypothesis Tests\n",
    "\n",
    "In this section of the lab, we will test whether the hourly wage of all hourly workers is significantly different from $30/hr. Import the correct one sample test function from scipy and perform the hypothesis test for a 95% two sided confidence interval."
   ]
  },
  {
   "cell_type": "code",
   "execution_count": 57,
   "metadata": {
    "tags": []
   },
   "outputs": [
    {
     "output_type": "stream",
     "name": "stdout",
     "text": "True\n"
    }
   ],
   "source": [
    "# Compare a list with a single value\n",
    "# ttest_1samp(a, popmean, axis=0, nan_policy='propagate')\n",
    "    # a - our sample\n",
    "    # popmean - the value we want to test our sample against\n",
    "    # axis - \n",
    "    # nan_policy - how to handle NaNs\n",
    "        # 'propagate' returns nan if there are nans\n",
    "        # 'raise' returns an error if there are nans\n",
    "        # 'omit' ignore the nans and calculate using the existing numbers\n",
    "from scipy.stats import ttest_1samp\n",
    "\n",
    "statistic, p_value = ttest_1samp(employees['Hourly Rate'], 30, nan_policy='omit')\n",
    "p_value_threshold = 1 - 0.95 # for 95% confidence interval\n",
    "#print(statistic, p_value)\n",
    "print(p_value < p_value_threshold)\n",
    "\n",
    "# p_value < p_value_threshold:\n",
    "    # True - means the hypothesis is within our confidence interval, hence is close to correct\n",
    "    # False - means the hypothesis is not within our confidence interval, hence is almost centainly incorrect"
   ]
  },
  {
   "cell_type": "markdown",
   "metadata": {},
   "source": [
    "We are also curious about salaries in the police force. The chief of police in Chicago claimed in a press briefing that salaries this year are higher than last year's mean of $86000/year a year for all salaried employees. Test this one sided hypothesis using a 95% confidence interval.\n",
    "\n",
    "Hint: A one tailed test has a p-value that is half of the two tailed p-value. If our hypothesis is greater than, then to reject, the test statistic must also be positive."
   ]
  },
  {
   "cell_type": "code",
   "execution_count": 58,
   "metadata": {
    "tags": []
   },
   "outputs": [
    {
     "output_type": "stream",
     "name": "stdout",
     "text": "True\n"
    }
   ],
   "source": [
    "# Comparing a list with 1 value but returning only 1 side  -> one-tailed t-test\n",
    "# ttest_1samp(a, popmean, nan_policy='propagate')\n",
    "\n",
    "statistic, p_value = ttest_1samp(employees['Annual Salary'], 86000, nan_policy='omit')\n",
    "\n",
    "p_value_threshold = 1 - 0.95 # for 95% confidence interval\n",
    "\n",
    "# since we are only interested with the values higher (just one tail), we divide by 2\n",
    "\n",
    "#print(statistic, p_value)\n",
    "print(p_value < p_value_threshold / 2)"
   ]
  },
  {
   "cell_type": "markdown",
   "metadata": {},
   "source": [
    "Using the `crosstab` function, find the department that has the most hourly workers. "
   ]
  },
  {
   "cell_type": "code",
   "execution_count": 59,
   "metadata": {},
   "outputs": [
    {
     "output_type": "execute_result",
     "data": {
      "text/plain": "Salary or Hourly  Hourly  Salary\nDepartment                      \nSTREETS & SAN       1862     336",
      "text/html": "<div>\n<style scoped>\n    .dataframe tbody tr th:only-of-type {\n        vertical-align: middle;\n    }\n\n    .dataframe tbody tr th {\n        vertical-align: top;\n    }\n\n    .dataframe thead th {\n        text-align: right;\n    }\n</style>\n<table border=\"1\" class=\"dataframe\">\n  <thead>\n    <tr style=\"text-align: right;\">\n      <th>Salary or Hourly</th>\n      <th>Hourly</th>\n      <th>Salary</th>\n    </tr>\n    <tr>\n      <th>Department</th>\n      <th></th>\n      <th></th>\n    </tr>\n  </thead>\n  <tbody>\n    <tr>\n      <th>STREETS &amp; SAN</th>\n      <td>1862</td>\n      <td>336</td>\n    </tr>\n  </tbody>\n</table>\n</div>"
     },
     "metadata": {},
     "execution_count": 59
    }
   ],
   "source": [
    "pd.crosstab(employees['Department'],employees['Salary or Hourly']).sort_values('Hourly', ascending=False).head(1)\n"
   ]
  },
  {
   "cell_type": "markdown",
   "metadata": {},
   "source": [
    "The workers from the department with the most hourly workers have complained that their hourly wage is less than $35/hour. Using a one sample t-test, test this one-sided hypothesis at the 95% confidence level."
   ]
  },
  {
   "cell_type": "code",
   "execution_count": 60,
   "metadata": {
    "tags": []
   },
   "outputs": [
    {
     "output_type": "stream",
     "name": "stdout",
     "text": "True\n"
    }
   ],
   "source": [
    "# Comparing a list with 1 value but returning only 1 side  -> one-tailed t-test\n",
    "statistic, p_value = ttest_1samp(employees[employees['Department'] == 'STREETS & SAN']['Hourly Rate'], 35, nan_policy='omit')\n",
    "\n",
    "p_value_threshold = 1 - 0.95 # for 95% confidence interval\n",
    "\n",
    "# since we are only interested with the  values lower (just one tail), we divide by 2\n",
    "#print(statistic, p_value)\n",
    "print(p_value < p_value_threshold / 2)"
   ]
  },
  {
   "cell_type": "markdown",
   "metadata": {},
   "source": [
    "# Challenge 3: To practice - Constructing Confidence Intervals\n",
    "\n",
    "While testing our hypothesis is a great way to gather empirical evidence for accepting or rejecting the hypothesis, another way to gather evidence is by creating a confidence interval. A confidence interval gives us information about the true mean of the population. So for a 95% confidence interval, we are 95% sure that the mean of the population is within the confidence interval. \n",
    ").\n",
    "\n",
    "To read more about confidence intervals, click [here](https://en.wikipedia.org/wiki/Confidence_interval).\n",
    "\n",
    "\n",
    "In the cell below, we will construct a 95% confidence interval for the mean hourly wage of all hourly workers. \n",
    "\n",
    "The confidence interval is computed in SciPy using the `t.interval` function. You can read more about this function [here](https://docs.scipy.org/doc/scipy-0.14.0/reference/generated/scipy.stats.t.html).\n",
    "\n",
    "To compute the confidence interval of the hourly wage, use the 0.95 for the confidence level, number of rows - 1 for degrees of freedom, the mean of the sample for the location parameter and the standard error for the scale. The standard error can be computed using [this](https://docs.scipy.org/doc/scipy/reference/generated/scipy.stats.sem.html) function in SciPy."
   ]
  },
  {
   "cell_type": "code",
   "execution_count": 96,
   "metadata": {
    "tags": []
   },
   "outputs": [
    {
     "output_type": "execute_result",
     "data": {
      "text/plain": "(9.04476857882128, 56.5323468537392)"
     },
     "metadata": {},
     "execution_count": 96
    }
   ],
   "source": [
    "from scipy.stats import t\n",
    "\n",
    "mean = employees['Hourly Rate'].dropna().mean()\n",
    "std_dev = employees['Hourly Rate'].dropna().std()\n",
    "\n",
    "# t.interval(alpha, df, loc, scale)\n",
    "    # alpha - confidence level\n",
    "    # df - degrees of freedom -> len - 1\n",
    "    # loc - mean\n",
    "    # scale - standard deviation (because it's the entire pop)\n",
    "\n",
    "conf_interval = t.interval(0.95, len(employees['Hourly Rate'].dropna())-1, mean, std_dev) # because it's the entire pop\n",
    "\n",
    "conf_interval"
   ]
  },
  {
   "cell_type": "markdown",
   "metadata": {},
   "source": [
    "Now construct the 95% confidence interval for all salaried employeed in the police in the cell below."
   ]
  },
  {
   "cell_type": "code",
   "execution_count": 95,
   "metadata": {},
   "outputs": [
    {
     "output_type": "execute_result",
     "data": {
      "text/plain": "(45544.71855637843, 128029.28102392443)"
     },
     "metadata": {},
     "execution_count": 95
    }
   ],
   "source": [
    "# Your code here:\n",
    "mean = employees['Annual Salary'].dropna().mean()\n",
    "std_dev = employees['Annual Salary'].dropna().std()\n",
    "\n",
    "# t.interval(alpha, df, loc, scale)\n",
    "    # alpha - confidence level\n",
    "    # df - degrees of freedom -> len - 1\n",
    "    # loc - mean\n",
    "    # scale - standard deviation (because it's the entire pop)\n",
    "\n",
    "conf_interval = t.interval(0.95, len(employees['Annual Salary'].dropna())-1, mean, std_dev) # because it's the entire pop\n",
    "\n",
    "conf_interval\n"
   ]
  },
  {
   "cell_type": "markdown",
   "metadata": {},
   "source": [
    "# Bonus Challenge - Hypothesis Tests of Proportions\n",
    "\n",
    "Another type of one sample test is a hypothesis test of proportions. In this test, we examine whether the proportion of a group in our sample is significantly different than a fraction. \n",
    "\n",
    "You can read more about one sample proportion tests [here](http://sphweb.bumc.bu.edu/otlt/MPH-Modules/BS/SAS/SAS6-CategoricalData/SAS6-CategoricalData2.html).\n",
    "\n",
    "In the cell below, use the `proportions_ztest` function from `statsmodels` to perform a hypothesis test that will determine whether the number of hourly workers in the City of Chicago is significantly different from 25% at the 95% confidence level."
   ]
  },
  {
   "cell_type": "code",
   "execution_count": 63,
   "metadata": {},
   "outputs": [],
   "source": [
    "# Your code here:\n",
    "\n"
   ]
  }
 ],
 "metadata": {
  "kernelspec": {
   "display_name": "Python 3.8.2 32-bit",
   "language": "python",
   "name": "python_defaultSpec_1596096545507"
  },
  "language_info": {
   "codemirror_mode": {
    "name": "ipython",
    "version": 3
   },
   "file_extension": ".py",
   "mimetype": "text/x-python",
   "name": "python",
   "nbconvert_exporter": "python",
   "pygments_lexer": "ipython3",
   "version": "3.7.3"
  }
 },
 "nbformat": 4,
 "nbformat_minor": 2
}